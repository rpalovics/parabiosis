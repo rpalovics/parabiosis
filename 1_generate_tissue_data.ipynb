{
 "cells": [
  {
   "cell_type": "code",
   "execution_count": null,
   "metadata": {},
   "outputs": [],
   "source": [
    "%matplotlib inline\n",
    "import pandas as pd\n",
    "import numpy as np\n",
    "import scanpy as sp\n",
    "import anndata as an\n",
    "import bbknn"
   ]
  },
  {
   "cell_type": "code",
   "execution_count": null,
   "metadata": {},
   "outputs": [],
   "source": [
    "folder = '../pb_results/'\n",
    "raw_data = 'parabiosis_tms_raw.h5ad'\n",
    "D = an.read_h5ad(raw_data)"
   ]
  },
  {
   "cell_type": "markdown",
   "metadata": {},
   "source": [
    "### Calculate QC metrics"
   ]
  },
  {
   "cell_type": "code",
   "execution_count": null,
   "metadata": {},
   "outputs": [],
   "source": [
    "D.var = D.var.reset_index()\n",
    "D.var['index'] = D.var.apply(lambda x: str(x['index'].lower()), axis = 1)\n",
    "D.var['mt'] = D.var['index'].str.startswith('mt-')\n",
    "D.var['rb'] = D.var['index'].str.startswith('rpl') | D.var['index'].str.startswith('rps') | D.var['index'].str.startswith('mrpl') | D.var['index'].str.startswith('mrps')\n",
    "D.var['ercc'] = D.var['index'].str.startswith('ercc')\n",
    "D.var['qc'] = D.var['ercc'] | D.var['rb'] | D.var['mt']\n",
    "D.var = D.var.set_index('index')\n",
    "sp.pp.calculate_qc_metrics(D, qc_vars=['mt','rb','ercc'], percent_top=None, log1p=False, inplace=True)"
   ]
  },
  {
   "cell_type": "markdown",
   "metadata": {},
   "source": [
    "## Apply QC"
   ]
  },
  {
   "cell_type": "code",
   "execution_count": null,
   "metadata": {},
   "outputs": [],
   "source": [
    "sp.pp.filter_genes(D, min_cells=1)\n",
    "D = D[D.obs.total_counts >= 5000, :]\n",
    "D = D[D.obs.n_genes_by_counts >= 500, :]\n",
    "D = D[D.obs.pct_counts_mt < 10, :]\n",
    "D = D[D.obs.pct_counts_rb < 10, :]\n",
    "D = D[D.obs.pct_counts_ercc < 30, :]\n",
    "D_raw = D.copy()\n",
    "sp.pp.normalize_total(D, target_sum=1e6)\n",
    "sp.pp.log1p(D,base=10)\n",
    "D_cpm = D.copy()"
   ]
  },
  {
   "cell_type": "markdown",
   "metadata": {},
   "source": [
    "### Create tissue scpecific datasets"
   ]
  },
  {
   "cell_type": "code",
   "execution_count": null,
   "metadata": {},
   "outputs": [],
   "source": [
    "tissues = list(D.obs['tissue'].unique())\n",
    "tissue_data_red = {}\n",
    "tissue_data_redo = {}\n",
    "tissue_data_cpm = {}\n",
    "tissue_data_raw = {}\n",
    "for tissue in tissues:\n",
    "    S = (D_raw.obs['tissue']==tissue)\n",
    "    tissue_data_cpm[tissue] = D_cpm[S,:]\n",
    "    tissue_data_raw[tissue] = D_raw[S,:]\n",
    "    tissue_data_raw[tissue].obs =  tissue_data_raw[tissue].obs.reset_index()\n",
    "    tissue_data_cpm[tissue].obs =  tissue_data_cpm[tissue].obs.reset_index()\n",
    "    d_ = tissue_data_cpm[tissue]\n",
    "    sp.pp.highly_variable_genes(d_,max_mean=6,n_top_genes=5000)\n",
    "    tissue_data_cpm[tissue] = d_\n",
    "    d = d_.copy()\n",
    "    d = d[:, d.var.highly_variable]\n",
    "    sp.tl.pca(d, svd_solver='arpack',n_comps=64)\n",
    "    tissue_data_red[tissue] = d"
   ]
  },
  {
   "cell_type": "markdown",
   "metadata": {},
   "source": [
    "### Apply downstream analyses required for cell annotation including batch correction\n",
    "- BBKNN batch correction\n",
    "- UMAP for visualization\n",
    "- Leiden algo. for clustering\n",
    "- KNN graph is calculated on the  vanilla data without batch conversion to later assess batch correction quality"
   ]
  },
  {
   "cell_type": "code",
   "execution_count": null,
   "metadata": {},
   "outputs": [],
   "source": [
    "for tissue in tissues:\n",
    "    print(tissue,end = ' ')\n",
    "    d = tissue_data_red[tissue].copy()\n",
    "    do = tissue_data_red[tissue].copy()\n",
    "    bbknn.bbknn(d,batch_key='mouse_id', n_pcs=20,neighbors_within_batch=1)\n",
    "    sp.tl.umap(d)\n",
    "    sp.tl.leiden(d)\n",
    "    sp.pp.neighbors(do, n_neighbors=15, n_pcs=20)\n",
    "    sp.tl.umap(do)\n",
    "    sp.tl.leiden(do)\n",
    "    tissue_data_red[tissue] = d\n",
    "    tissue_data_redo[tissue] = do"
   ]
  },
  {
   "cell_type": "markdown",
   "metadata": {},
   "source": [
    "### Saving the tissue specific datasets that are ready for cell type annotation"
   ]
  },
  {
   "cell_type": "code",
   "execution_count": null,
   "metadata": {},
   "outputs": [],
   "source": [
    "folder = '../pb_results/'\n",
    "for tissue in tissues:\n",
    "        print(tissue, end = ' ')\n",
    "        tissue_data_raw[tissue].write(folder + 'tissue_data_raw_' + tissue + '.h5ad')\n",
    "        tissue_data_cpm[tissue].write(folder + 'tissue_data_cpm_' + tissue + '.h5ad')\n",
    "        tissue_data_red[tissue].write(folder + 'tissue_data_red_' + tissue + '.h5ad')\n",
    "        tissue_data_redo[tissue].write(folder + 'tissue_data_redo_' + tissue + '.h5ad')"
   ]
  }
 ],
 "metadata": {
  "kernelspec": {
   "display_name": "Python 3 (ipykernel)",
   "language": "python",
   "name": "python3"
  },
  "language_info": {
   "codemirror_mode": {
    "name": "ipython",
    "version": 3
   },
   "file_extension": ".py",
   "mimetype": "text/x-python",
   "name": "python",
   "nbconvert_exporter": "python",
   "pygments_lexer": "ipython3",
   "version": "3.8.12"
  }
 },
 "nbformat": 4,
 "nbformat_minor": 4
}
