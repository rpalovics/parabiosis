{
 "cells": [
  {
   "cell_type": "code",
   "execution_count": null,
   "metadata": {},
   "outputs": [],
   "source": [
    "import pandas as pd\n",
    "import numpy as np\n",
    "from sklearn import metrics\n",
    "import anndata as an\n",
    "import scanpy as sp\n",
    "from scipy.stats import mannwhitneyu\n",
    "from sklearn.metrics import roc_auc_score\n",
    "tissues = ['bladder','brain','diaphragm','fat BAT','fat GAT','fat MAT','fat SCAT','heart','kidney','large intestine','limb muscle','liver','lung','marrow','pancreas','skin','spleen','thymus','tongue','trachea']"
   ]
  },
  {
   "cell_type": "code",
   "execution_count": null,
   "metadata": {},
   "outputs": [],
   "source": [
    "def run_stat(X,C,T,y,ii):\n",
    "        U , p = mannwhitneyu(C[ii,:],T[ii,:])\n",
    "        auc = roc_auc_score(y,X[ii,:])-0.5\n",
    "        return p,auc\n",
    "\n",
    "def dge(d,col,control,treatment,sample=False,num=10):\n",
    "        X = np.array(d.X.todense().transpose())\n",
    "        genes = np.array(d.var.index)\n",
    "        a = d.obs\n",
    "        control = np.array(a[col]==control)\n",
    "        treatment = np.array(a[col]==treatment)\n",
    "        num_control = control.sum()\n",
    "        num_treatment = treatment.sum()\n",
    "        num_genes = len(genes)\n",
    "        res = {}\n",
    "        for key in ['log','auc','nzc','nzt']:\n",
    "            res[key] = np.zeros((num_genes,))\n",
    "        res['pval'] = np.ones((num_genes,))\n",
    "        res['num_control'] = num_control\n",
    "        res['num_treatment'] = num_treatment\n",
    "        if num_control >= 1 and num_treatment >= 1:\n",
    "            C = X[:,control].copy()\n",
    "            T = X[:,treatment].copy()\n",
    "            y = np.concatenate([np.zeros((C.shape[1],)),np.ones((T.shape[1],))])\n",
    "            res['nzc'] = (C>0).sum(axis=1)\n",
    "            res['nzt'] = (T>0).sum(axis=1)\n",
    "            gene_filter_  = (res['nzc']>0) & (res['nzt']>0)\n",
    "            X_ = np.concatenate([C,T],axis=1)\n",
    "            res['log'] = (T.mean(axis=1) - C.mean(axis=1)) / np.log(2)\n",
    "            res['log'][~gene_filter_]=0\n",
    "            for ii in range(num_genes):\n",
    "                if gene_filter_[ii]:\n",
    "                    res['pval'][ii] , res['auc'][ii]  = run_stat(X_,C,T,y,ii)\n",
    "        res = pd.DataFrame(res)\n",
    "        g = d.var.reset_index()\n",
    "        res['gene'] = g['index']\n",
    "        res['pc'] = g['pc']\n",
    "        res['qc'] = g['ercc'] | g['mt'] | g['rb']\n",
    "        s = (res['pval']!=1) & (res['pc']) & (res['nzc']>1) & (res['nzt']>1) & (~res['qc'])\n",
    "        res = res[s].reset_index()\n",
    "        del res['index']\n",
    "        a,p,a,a = multipletests(np.array(res['pval']), alpha=0.05, method='fdr_bh')\n",
    "        res['pval_adj'] = p\n",
    "        res = res.set_index('gene')\n",
    "        return res"
   ]
  },
  {
   "cell_type": "code",
   "execution_count": null,
   "metadata": {},
   "outputs": [],
   "source": [
    "folder = '../pb_results/'\n",
    "data = {}\n",
    "for tissue in tissues:\n",
    "        print(tissue, end = ' ')\n",
    "        data[tissue]= an.read_h5ad(folder + 'tissue_data_cpm_annotated_' + tissue + '.h5ad')"
   ]
  },
  {
   "cell_type": "code",
   "execution_count": null,
   "metadata": {},
   "outputs": [],
   "source": [
    "data_ = {}\n",
    "for tissue in tissues:\n",
    "    print(tissue,end = ' ')\n",
    "    data_[tissue] = {}\n",
    "    d = data[tissue]\n",
    "    a = d.obs\n",
    "    for cell_type in a['cell_type_abbrev'].unique():\n",
    "            s = (a['cell_type_abbrev']==cell_type)\n",
    "            if s.sum()>0:\n",
    "                data_[tissue][cell_type] = d[s,:]"
   ]
  },
  {
   "cell_type": "code",
   "execution_count": null,
   "metadata": {},
   "outputs": [],
   "source": [
    "folder_ = '../pb_results/dge/'\n",
    "for (co,tr) in [('Y','A'),('IA','HA'),('IY','HY')]:\n",
    "  for tissue in data_:\n",
    "    for cell_type in data_[tissue]:\n",
    "        d = data_[tissue][cell_type]\n",
    "        control = d.obs['condition']==co\n",
    "        treatment = d.obs['condition']==tr\n",
    "        if control.sum()>=10 and treatment.sum()>=10:\n",
    "            res = dge(d,'condition',co,tr)\n",
    "            code = co+tr\n",
    "            res.to_pickle('dge_sc|' + code + '|' + tissue + '|' + cell_type + '.pkl')"
   ]
  }
 ],
 "metadata": {
  "kernelspec": {
   "display_name": "Python 3 (ipykernel)",
   "language": "python",
   "name": "python3"
  },
  "language_info": {
   "codemirror_mode": {
    "name": "ipython",
    "version": 3
   },
   "file_extension": ".py",
   "mimetype": "text/x-python",
   "name": "python",
   "nbconvert_exporter": "python",
   "pygments_lexer": "ipython3",
   "version": "3.8.12"
  }
 },
 "nbformat": 4,
 "nbformat_minor": 4
}
