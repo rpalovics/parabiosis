{
 "cells": [
  {
   "cell_type": "code",
   "execution_count": null,
   "metadata": {},
   "outputs": [],
   "source": [
    "import pandas as pd\n",
    "import numpy as np\n",
    "import sys\n",
    "import os\n",
    "import scanpy as sp\n",
    "import anndata as an\n",
    "from sklearn.metrics import silhouette_score"
   ]
  },
  {
   "cell_type": "code",
   "execution_count": null,
   "metadata": {},
   "outputs": [],
   "source": [
    "tissues = ['bladder','brain','diaphragm','fat BAT','fat GAT','fat MAT','fat SCAT','heart','kidney','large intestine','limb muscle','liver','lung','marrow','pancreas','skin','spleen','thymus','tongue','trachea']"
   ]
  },
  {
   "cell_type": "code",
   "execution_count": null,
   "metadata": {},
   "outputs": [],
   "source": [
    "folder = '../pb_results/'\n",
    "tissue_data_red = {}\n",
    "tissue_data_redo = {}\n",
    "for tissue in tissues:\n",
    "        print(tissue, end = ' ')\n",
    "        tissue_data_red[tissue]= an.read_h5ad(folder + 'tissue_data_red_' + tissue + '.h5ad')\n",
    "        tissue_data_redo[tissue]= an.read_h5ad(folder + 'tissue_data_redo_' + tissue + '.h5ad')"
   ]
  },
  {
   "cell_type": "markdown",
   "metadata": {},
   "source": [
    "### Generating input for Lisi calculation in R"
   ]
  },
  {
   "cell_type": "code",
   "execution_count": null,
   "metadata": {},
   "outputs": [],
   "source": [
    "for tissue in tissues:\n",
    "    tissue_data_red[tissue].obs[['mouse_id','data','condition']].to_csv(folder + 'batch_'+tissue+'.csv', index=False)\n",
    "    tissue_data_redo[tissue].obs[['mouse_id','data','condition']].to_csv(folder + 'batcho_'+tissue+'.csv', index=False)\n",
    "    np.savetxt(folder + 'umap_'+tissue+'.csv',tissue_data_red[tissue].obsm['X_umap'])\n",
    "    np.savetxt(folder + 'umapo_'+tissue+'.csv',tissue_data_redo[tissue].obsm['X_umap'])"
   ]
  },
  {
   "cell_type": "markdown",
   "metadata": {},
   "source": [
    "### Reading Lisi results"
   ]
  },
  {
   "cell_type": "code",
   "execution_count": null,
   "metadata": {},
   "outputs": [],
   "source": [
    "lisi = {}\n",
    "lisio = {}\n",
    "for tissue in tissues:\n",
    "    lisi[tissue] = pd.read_csv(folder + 'lisi_'+tissue+'.csv')\n",
    "    lisio[tissue] = pd.read_csv(folder + 'lisio_'+tissue+'.csv')\n",
    "    for col in ['mouse_id','data','condition']:\n",
    "        tissue_data_red[tissue].obs['lisi_ori_'+col] = np.array(lisio[tissue][col])\n",
    "        tissue_data_red[tissue].obs['lisi_corr_'+col] = np.array(lisi[tissue][col])"
   ]
  },
  {
   "cell_type": "markdown",
   "metadata": {},
   "source": [
    "### Silhouette score calculation"
   ]
  },
  {
   "cell_type": "code",
   "execution_count": null,
   "metadata": {},
   "outputs": [],
   "source": [
    "x = []\n",
    "keys = ['ori','corr']\n",
    "typs = [tissue_data_redo,tissue_data_red]\n",
    "for tissue in tissues:\n",
    "    ii=0\n",
    "    for ti in typs:\n",
    "        X = ti[tissue].obsm['X_umap']\n",
    "        c = np.array(ti[tissue].obs['leiden'])\n",
    "        s = silhouette_score(X,c)\n",
    "        tissue_data_red[tissue].obs['ari_'+keys[ii]] = s\n",
    "        ii+=1"
   ]
  },
  {
   "cell_type": "markdown",
   "metadata": {},
   "source": [
    "### Entropy batch mixing calculation"
   ]
  },
  {
   "cell_type": "code",
   "execution_count": null,
   "metadata": {},
   "outputs": [],
   "source": [
    "from scipy.stats import entropy\n",
    "batches = ['data','mouse_id','condition']\n",
    "ent = {}\n",
    "for tissue in tissues:\n",
    "    tt=0\n",
    "    for typ in typs:\n",
    "      d = typ[tissue]\n",
    "      n = d.uns['neighbors']['connectivities']\n",
    "      ent = {}\n",
    "      for batch in batches:\n",
    "          ent[batch] = []\n",
    "      for ii in range(n.shape[0]):\n",
    "          x = n.getrow(ii).nonzero()[1]\n",
    "          for batch in batches:\n",
    "              b = d.obs[batch][x]\n",
    "              b = b.value_counts()\n",
    "              ent[batch].append(entropy(b))\n",
    "      for batch in batches:\n",
    "        tissue_data_red[tissue].obs['ent_' + keys[tt]+ '_' + batch] = ent[batch]\n",
    "      tt+=1"
   ]
  },
  {
   "cell_type": "code",
   "execution_count": null,
   "metadata": {},
   "outputs": [],
   "source": [
    "for tissue in tissues:\n",
    "    print(tissue,end = ' ')\n",
    "    tissue_data_red[tissue].write(folder + 'tissue_data_red_' + tissue + '.h5ad')"
   ]
  }
 ],
 "metadata": {
  "kernelspec": {
   "display_name": "Python 3 (ipykernel)",
   "language": "python",
   "name": "python3"
  },
  "language_info": {
   "codemirror_mode": {
    "name": "ipython",
    "version": 3
   },
   "file_extension": ".py",
   "mimetype": "text/x-python",
   "name": "python",
   "nbconvert_exporter": "python",
   "pygments_lexer": "ipython3",
   "version": "3.8.12"
  }
 },
 "nbformat": 4,
 "nbformat_minor": 4
}
