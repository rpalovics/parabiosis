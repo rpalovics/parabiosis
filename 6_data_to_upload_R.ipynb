{
 "cells": [
  {
   "cell_type": "code",
   "execution_count": null,
   "id": "b707b5bd-cc8a-414e-a044-ab3e287eb1c5",
   "metadata": {},
   "outputs": [],
   "source": [
    "library(Seurat)\n",
    "library(reticulate)\n",
    "anndata = import(\"anndata\")"
   ]
  },
  {
   "cell_type": "markdown",
   "id": "f7d9dc13-1844-4062-8bc6-78f6ee9e6ff7",
   "metadata": {},
   "source": [
    "### This notebook shows the conversion from h5ad to RDS objects"
   ]
  },
  {
   "cell_type": "code",
   "execution_count": null,
   "id": "a136147a-50cb-4f5a-9e60-95c7b6f5d488",
   "metadata": {},
   "outputs": [],
   "source": [
    "tissues <- c('bladder','brain','diaphragm','fat BAT','fat GAT','fat MAT','fat SCAT','heart','kidney','large intestine','limb muscle','liver','lung','marrow','pancreas','skin','spleen','thymus','tongue','trachea')"
   ]
  },
  {
   "cell_type": "code",
   "execution_count": null,
   "id": "9dfd0975-30aa-48d1-a2ae-74949ecd4377",
   "metadata": {},
   "outputs": [],
   "source": [
    "folder <- '../pb_results/'"
   ]
  },
  {
   "cell_type": "code",
   "execution_count": null,
   "id": "6512bd51-24d2-4d36-866c-0e06819866b0",
   "metadata": {},
   "outputs": [],
   "source": [
    "for (t in tissues){\n",
    "    filename <- paste(folder,'count-data-',t,'-annotated.h5ad',sep='')\n",
    "    adata = anndata$read_h5ad(filename)\n",
    "    counts = Matrix::t(adata$X)\n",
    "    dimnames(counts) = list(adata$var_names$values, rownames(adata$obs))\n",
    "    d = CreateSeuratObject(counts=counts, meta.data=as.data.frame(adata$obs))\n",
    "    filename <- paste(folder,'count-data-',t,'-annotated.rds',sep='')\n",
    "    saveRDS(d, filename)\n",
    "}"
   ]
  }
 ],
 "metadata": {
  "kernelspec": {
   "display_name": "R",
   "language": "R",
   "name": "ir"
  },
  "language_info": {
   "codemirror_mode": "r",
   "file_extension": ".r",
   "mimetype": "text/x-r-source",
   "name": "R",
   "pygments_lexer": "r",
   "version": "3.6.1"
  }
 },
 "nbformat": 4,
 "nbformat_minor": 5
}
