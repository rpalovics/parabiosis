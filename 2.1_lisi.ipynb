{
 "cells": [
  {
   "cell_type": "code",
   "execution_count": null,
   "id": "75baa4b7-c191-4130-92a8-c5a9bf0d5229",
   "metadata": {},
   "outputs": [],
   "source": [
    "library(lisi)\n",
    "tissues <- c('bladder','brain','diaphragm','fat BAT','fat GAT','fat MAT','fat SCAT','heart','kidney','large intestine','limb muscle','liver','lung','marrow','pancreas','skin','spleen','thymus','tongue','trachea')\n",
    "folder <- '../pb_results/'\n",
    "for(t in tissues){\n",
    "meta <-  read.csv(paste(folder,'batch_',t,'.csv',sep=''), header = TRUE, sep = \",\")\n",
    "x <-  read.csv(paste(folder,'umap_',t,'.csv',sep=''), header = FALSE, sep = \" \")\n",
    "res <- compute_lisi(x, meta, c('mouse_id','data','condition'))\n",
    "write.csv(res,paste(folder,'lisi_',t,'.csv',sep=''))\n",
    "meta <-  read.csv(paste(folder,'batcho_',t,'.csv',sep=''), header = TRUE, sep = \",\")\n",
    "x <-  read.csv(paste(folder,'umapo_',t,'.csv',sep=''), header = FALSE, sep = \" \")\n",
    "res <- compute_lisi(x, meta, c('mouse_id','data','condition'))\n",
    "write.csv(res,paste(folder,'lisio_',t,'.csv',sep=''))\n",
    "}"
   ]
  }
 ],
 "metadata": {
  "kernelspec": {
   "display_name": "R",
   "language": "R",
   "name": "ir"
  },
  "language_info": {
   "codemirror_mode": "r",
   "file_extension": ".r",
   "mimetype": "text/x-r-source",
   "name": "R",
   "pygments_lexer": "r",
   "version": "3.6.1"
  }
 },
 "nbformat": 4,
 "nbformat_minor": 5
}
