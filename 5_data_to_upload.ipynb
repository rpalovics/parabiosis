{
 "cells": [
  {
   "cell_type": "code",
   "execution_count": null,
   "metadata": {},
   "outputs": [],
   "source": [
    "import sys\n",
    "import os\n",
    "import scanpy as sp\n",
    "import anndata as an"
   ]
  },
  {
   "cell_type": "markdown",
   "metadata": {},
   "source": [
    "### This notebook shows the final changes before uploading the h5ad objects to figshare"
   ]
  },
  {
   "cell_type": "code",
   "execution_count": null,
   "metadata": {},
   "outputs": [],
   "source": [
    "tissues = ['bladder','brain','diaphragm','fat BAT','fat GAT','fat MAT','fat SCAT','heart','kidney','large intestine','limb muscle','liver','lung','marrow','pancreas','skin','spleen','thymus','tongue','trachea']"
   ]
  },
  {
   "cell_type": "code",
   "execution_count": null,
   "metadata": {},
   "outputs": [],
   "source": [
    "folder = '../pb_results/'\n",
    "tissue_data_raw = {}\n",
    "for tissue in tissues:\n",
    "        print(tissue,end = ' ')\n",
    "        tissue_data_raw[tissue]= an.read_h5ad(folder + 'tissue_data_raw_annotated_' + tissue + '.h5ad')\n",
    "        tissue_data_raw[tissue].obs =  tissue_data_raw[tissue].obs[['facs_selection','plate','pair','mouse_id','data','condition','tissue','subtissue','age','cell_type']]\n",
    "        tissue_data_raw[tissue].var = tissue_data_raw[tissue].var[[]]\n",
    "        tissue_data_raw[tissue].write(folder + 'count-data-' + tissue + '-annotated' + '.h5ad')"
   ]
  }
 ],
 "metadata": {
  "kernelspec": {
   "display_name": "Python 3 (ipykernel)",
   "language": "python",
   "name": "python3"
  },
  "language_info": {
   "codemirror_mode": {
    "name": "ipython",
    "version": 3
   },
   "file_extension": ".py",
   "mimetype": "text/x-python",
   "name": "python",
   "nbconvert_exporter": "python",
   "pygments_lexer": "ipython3",
   "version": "3.8.12"
  }
 },
 "nbformat": 4,
 "nbformat_minor": 4
}
