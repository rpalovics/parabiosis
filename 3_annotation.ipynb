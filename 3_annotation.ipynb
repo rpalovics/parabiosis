{
 "cells": [
  {
   "cell_type": "code",
   "execution_count": null,
   "metadata": {},
   "outputs": [],
   "source": [
    "%matplotlib inline\n",
    "import pandas as pd\n",
    "import matplotlib\n",
    "from matplotlib import pyplot as plt\n",
    "import numpy as np\n",
    "import scanpy as sp\n",
    "import anndata as an\n",
    "import seaborn as sns\n",
    "sns.set_style(\"white\")\n",
    "sns.set_color_codes(\"dark\")"
   ]
  },
  {
   "cell_type": "code",
   "execution_count": null,
   "metadata": {},
   "outputs": [],
   "source": [
    "tissues = ['bladder','brain','diaphragm','fat BAT','fat GAT','fat MAT','fat SCAT','heart','kidney','large intestine','limb muscle','liver','lung','marrow','pancreas','skin','spleen','thymus','tongue','trachea']"
   ]
  },
  {
   "cell_type": "markdown",
   "metadata": {},
   "source": [
    "### Abbreviation conventions used consistently throughout the figures"
   ]
  },
  {
   "cell_type": "code",
   "execution_count": null,
   "metadata": {},
   "outputs": [],
   "source": [
    "def rename(name):\n",
    "    if name=='oligodendrocyte':\n",
    "        return 'oligo.'\n",
    "    if name=='endothelial cell':\n",
    "        return 'endo. cell'\n",
    "    if name=='epidermal cell':\n",
    "        return 'epid. cell'\n",
    "    if name=='microglial cell':\n",
    "        return 'microglia'\n",
    "    if name=='myeloid leukocyte':\n",
    "        return 'm. leu.'\n",
    "    if name=='bergmann glial cell':\n",
    "        return 'BGC'\n",
    "    if name=='epithelial cell':\n",
    "        return 'epith. cell'\n",
    "    if name=='neuroepithelial cell':\n",
    "        return 'n. epith. cell'\n",
    "    if name=='ependymal cell':\n",
    "        return 'ependy. cell'\n",
    "    if name=='oligo pre cell':\n",
    "        return 'OPC'\n",
    "    if name=='macrophage':\n",
    "        return 'macro.'\n",
    "    if name=='enteroendocrine cell':\n",
    "        return 'enteroendo. cell'\n",
    "    if name.startswith('t ') or name.startswith('b ') or name.startswith('nk '):\n",
    "        return name[:2].upper()+name[2:]\n",
    "    if  name.startswith('plasma b '):\n",
    "        return 'plasma B cell'\n",
    "    if name.startswith('skeletal'):\n",
    "        return 'sat. cell'\n",
    "    if name.startswith('smooth'):\n",
    "        return 'SMC'\n",
    "    if name.startswith('professional'):\n",
    "        return 'APC'\n",
    "    r = name.split(' ')\n",
    "    if len(r)>1 and r[1]=='stem':\n",
    "        return r[0][0].upper() + 'SC'\n",
    "    return name"
   ]
  },
  {
   "cell_type": "code",
   "execution_count": null,
   "metadata": {},
   "outputs": [],
   "source": [
    "folder = '../pb_results/'\n",
    "tissue_data_red = {}\n",
    "tissue_data_cpm = {}\n",
    "tissue_data_raw = {}\n",
    "for tissue in tissues:\n",
    "        print(tissue, end = ' ')\n",
    "        tissue_data_raw[tissue]= an.read_h5ad(folder + 'tissue_data_raw_' + tissue + '.h5ad')\n",
    "        tissue_data_cpm[tissue]= an.read_h5ad(folder + 'tissue_data_cpm_' + tissue + '.h5ad')\n",
    "        tissue_data_red[tissue]= an.read_h5ad(folder + 'tissue_data_red_' + tissue + '.h5ad')"
   ]
  },
  {
   "cell_type": "markdown",
   "metadata": {},
   "source": [
    "### KNN annotation is based on the neighbors calculated by BBKNN"
   ]
  },
  {
   "cell_type": "code",
   "execution_count": null,
   "metadata": {},
   "outputs": [],
   "source": [
    "for tissue in tissues:\n",
    "  print(tissue, end = ' ')\n",
    "  d = tissue_data_red[tissue]\n",
    "  n = d.uns['neighbors']['connectivities']\n",
    "  annot = []\n",
    "  for ii in range(n.shape[0]):\n",
    "    x = n.getrow(ii).nonzero()[1]\n",
    "    b = d.obs['data'][x]\n",
    "    t = d.obs['cell_type'][x]\n",
    "    l = t[b!='pb']\n",
    "    annot.append(l.value_counts().index[0])\n",
    "  tissue_data_red[tissue].obs['cell_type_knn'] = annot"
   ]
  },
  {
   "cell_type": "code",
   "execution_count": null,
   "metadata": {},
   "outputs": [],
   "source": [
    "def label(x):\n",
    "    if x['cell_type']=='pb':\n",
    "        return x['cell_type_knn']\n",
    "    else: return x['cell_type']\n",
    "\n",
    "for tissue in tissues:\n",
    "    A = tissue_data_red[tissue].obs\n",
    "    A['cell_type'] = A.apply(lambda x: label(x), axis = 1)\n",
    "    tissue_data_red[tissue].obs = A"
   ]
  },
  {
   "cell_type": "code",
   "execution_count": null,
   "metadata": {},
   "outputs": [],
   "source": [
    "def annotate_man(tissue,clusters,cell_type):\n",
    "    d = tissue_data_red[tissue]\n",
    "    a = d.obs\n",
    "    a['cell_type'] = a.apply(lambda x: cell_type if (int(x['leiden']) in clusters) else x['cell_type'], axis = 1)\n",
    "    d.obs = a\n",
    "    return d\n",
    "    \n",
    "def remove(tissue,cluster):\n",
    "    d = tissue_data_red[tissue]\n",
    "    s = (d.obs['leiden'] != cluster)\n",
    "    d = d[s,:]\n",
    "    return d"
   ]
  },
  {
   "cell_type": "markdown",
   "metadata": {},
   "source": [
    "### Next each tissue specific object is visualized to verify the annotations"
   ]
  },
  {
   "cell_type": "code",
   "execution_count": null,
   "metadata": {},
   "outputs": [],
   "source": [
    "def color(X,A,att,siz=10,cmap={},th=0,alpha=1,annotate=False,legend=True,ncol=1):\n",
    "        colors = ['#e6194b', '#3cb44b', '#f58231', '#4363d8', '#911eb4', '#46f0f0', '#f032e6', '#ffe119','#bcf60c', '#fabebe', '#008080', '#e6beff', '#9a6324', '#fffac8', '#800000', '#aaffc3', '#808000', '#ffd8b1', '#000075', '#808080', '#ffffff', '#000000']\n",
    "        X_ = X ; att_ = A\n",
    "        d = att_.sort_values(att)[att]\n",
    "        if len(cmap)==0:\n",
    "            cmap = {} ; i = -1\n",
    "            for val in d:\n",
    "                if val not in cmap:\n",
    "                    if val !='nan': i+=1 ; cmap[val] = colors[i%len(colors)]\n",
    "                    else: cmap[val] = '#000000'\n",
    "        for key in cmap:\n",
    "            s = (att_[att] == key)\n",
    "            if s.sum()>th:\n",
    "                x = X_[s,:]\n",
    "                plt.scatter(x[:,0],x[:,1],color=cmap[key],label=key,s=siz,alpha=alpha)\n",
    "                if annotate:\n",
    "                    mx = x[:,0].mean()\n",
    "                    my = x[:,1].mean()\n",
    "                    plt.text(mx,my,key, bbox=dict(facecolor='white', alpha=0.75,boxstyle=\"round\"))\n",
    "        mi = min(X[:,0].min(),X[:,1].min())\n",
    "        ma = max(X[:,0].max(),X[:,1].max())\n",
    "        mi-= mi*0.05\n",
    "        ma+= ma*0.05*np.sign(ma)\n",
    "        plt.xlim(mi,ma)\n",
    "        plt.ylim(mi,ma)\n",
    "        if legend:\n",
    "            plt.legend(markerscale=2,framealpha=0.5,ncol=ncol)"
   ]
  },
  {
   "cell_type": "code",
   "execution_count": null,
   "metadata": {},
   "outputs": [],
   "source": [
    "siz=2\n",
    "alpha = 1\n",
    "for tissue in tissues:\n",
    "    att_  = tissue_data_red[tissue].obs\n",
    "    coordinates = tissue_data_red[tissue].obsm['X_umap']\n",
    "    max_ = coordinates.max().max()\n",
    "    min_ = coordinates.min().min()\n",
    "    plt.figure(figsize=(36,12))\n",
    "    plt.suptitle(tissue)\n",
    "    plt.subplot(1,3,1)\n",
    "    plt.title('data overlap',loc='left')\n",
    "    color(coordinates,att_,'data',siz=siz,alpha=alpha)\n",
    "    plt.xlim(min_,max_)\n",
    "    plt.ylim(min_,max_)\n",
    "    plt.axis('off')\n",
    "    plt.grid() \n",
    "    plt.subplot(1,3,2)\n",
    "    plt.title('clustering',loc='left')\n",
    "    color(coordinates,att_,'leiden',siz=siz,alpha=alpha,annotate=True)\n",
    "    plt.xlim(min_,max_)\n",
    "    plt.ylim(min_,max_)\n",
    "    plt.axis('off')\n",
    "    plt.grid()\n",
    "    plt.subplot(1,3,3)\n",
    "    plt.title('annotations',loc='left')\n",
    "    color(coordinates,att_,'cell_type',siz=siz,alpha=alpha)\n",
    "    plt.xlim(min_,max_)\n",
    "    plt.ylim(min_,max_)\n",
    "    plt.axis('off')"
   ]
  },
  {
   "cell_type": "markdown",
   "metadata": {},
   "source": [
    "### We identify a few clusters where TMS annotations should be adjusted"
   ]
  },
  {
   "cell_type": "code",
   "execution_count": null,
   "metadata": {},
   "outputs": [],
   "source": [
    "tissue_data_red['fat BAT']=annotate_man('fat BAT',[4,8],'macrophage')\n",
    "tissue_data_red['fat GAT']=annotate_man('fat GAT',[5,8,12],'macrophage')\n",
    "tissue_data_red['fat GAT']=annotate_man('fat GAT',[13],'plasma b cell')\n",
    "tissue_data_red['fat SCAT']=annotate_man('fat SCAT',[3,7,10],'macrophage')\n",
    "tissue_data_red['fat SCAT']=annotate_man('fat SCAT',[11],'monocyte')\n",
    "tissue_data_red['marrow']=annotate_man('marrow',[9],'b cell')\n",
    "tissue_data_red['pancreas']=annotate_man('pancreas',[12],'stellate cell')\n",
    "tissue_data_red['pancreas']=annotate_man('pancreas',[10],'macrophage')"
   ]
  },
  {
   "cell_type": "code",
   "execution_count": null,
   "metadata": {},
   "outputs": [],
   "source": [
    "for tissue in tissues:\n",
    "    a_ = tissue_data_red[tissue].obs\n",
    "    a_['cell_type_abbrev'] =  a_.apply(lambda x: rename(x['cell_type']), axis = 1)"
   ]
  },
  {
   "cell_type": "code",
   "execution_count": null,
   "metadata": {},
   "outputs": [],
   "source": [
    "for tissue in tissues:\n",
    "    print(tissue,end = ' ')\n",
    "    tissue_data_cpm[tissue].obs=tissue_data_red[tissue].obs.copy()\n",
    "    tissue_data_raw[tissue].obs=tissue_data_red[tissue].obs.copy()\n",
    "    tissue_data_red[tissue].write(folder + 'tissue_data_red_annotated_' + tissue + '.h5ad')\n",
    "    tissue_data_cpm[tissue].write(folder + 'tissue_data_cpm_annotated_' + tissue + '.h5ad')\n",
    "    tissue_data_raw[tissue].write(folder + 'tissue_data_raw_annotated_' + tissue + '.h5ad')"
   ]
  }
 ],
 "metadata": {
  "kernelspec": {
   "display_name": "Python 3 (ipykernel)",
   "language": "python",
   "name": "python3"
  },
  "language_info": {
   "codemirror_mode": {
    "name": "ipython",
    "version": 3
   },
   "file_extension": ".py",
   "mimetype": "text/x-python",
   "name": "python",
   "nbconvert_exporter": "python",
   "pygments_lexer": "ipython3",
   "version": "3.8.12"
  }
 },
 "nbformat": 4,
 "nbformat_minor": 4
}
